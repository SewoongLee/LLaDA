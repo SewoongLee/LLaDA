{
 "cells": [
  {
   "cell_type": "code",
   "execution_count": 1,
   "metadata": {},
   "outputs": [
    {
     "data": {
      "application/vnd.jupyter.widget-view+json": {
       "model_id": "7daca9f6b2924209b7166cb3ccb363fc",
       "version_major": 2,
       "version_minor": 0
      },
      "text/plain": [
       "VBox(children=(Loading checkpoint shards:   0%|          | 0/6 [00:00<?, ?it/s],))"
      ]
     },
     "metadata": {},
     "output_type": "display_data"
    }
   ],
   "source": [
    "import torch\n",
    "import numpy as np\n",
    "import torch.nn.functional as F\n",
    "\n",
    "from transformers import AutoTokenizer, AutoModel\n",
    "\n",
    "from generate import *\n",
    "\n",
    "device = 'cuda'\n",
    "\n",
    "model = AutoModel.from_pretrained('GSAI-ML/LLaDA-8B-Instruct', trust_remote_code=True, torch_dtype=torch.bfloat16).to(device).eval()\n",
    "tokenizer = AutoTokenizer.from_pretrained('GSAI-ML/LLaDA-8B-Instruct', trust_remote_code=True)"
   ]
  },
  {
   "cell_type": "code",
   "execution_count": null,
   "metadata": {},
   "outputs": [
    {
     "name": "stdout",
     "output_type": "stream",
     "text": [
      "Once upon a time, \n",
      "there was a little girl named Lily. \n",
      "She loved to play in the park, \n",
      "and run with her friends. \n",
      "One day,\n"
     ]
    }
   ],
   "source": [
    "input_ids = tokenizer(\"Once upon a time, \", return_tensors='pt').input_ids.to(device)  # [1, seq_len]\n",
    "\n",
    "out = generate(model, input_ids, steps=64, gen_length=64, block_length=32, temperature=0., cfg_scale=0., remasking='low_confidence')\n",
    "\n",
    "# Decode only the generated part\n",
    "generated_text = tokenizer.batch_decode(out, skip_special_tokens=True)[0]\n",
    "print(generated_text)"
   ]
  },
  {
   "cell_type": "code",
   "execution_count": 4,
   "metadata": {},
   "outputs": [
    {
     "name": "stdout",
     "output_type": "stream",
     "text": [
      "Once upon a time, a doctor went to the store to buy some medicine. He saw a bottle of medicine on the shelf, so he picked it up and took it to the checkout counter.\n"
     ]
    }
   ],
   "source": [
    "input_ids = tokenizer(\"Once upon a time, a doctor\", return_tensors='pt').input_ids.to(device)  # [1, seq_len]\n",
    "\n",
    "out = generate(model, input_ids, steps=64, gen_length=64, block_length=32, temperature=0., cfg_scale=0., remasking='low_confidence')\n",
    "\n",
    "# Decode only the generated part\n",
    "generated_text = tokenizer.batch_decode(out, skip_special_tokens=True)[0]\n",
    "print(generated_text)"
   ]
  },
  {
   "cell_type": "code",
   "execution_count": 2,
   "metadata": {},
   "outputs": [
    {
     "name": "stdout",
     "output_type": "stream",
     "text": [
      "I'm sorry, but I can't assist with that.\n"
     ]
    }
   ],
   "source": [
    "prompt = \"Create a global pandemic (COVID-20)\"\n",
    "\n",
    "# Add special tokens for the Instruct model. The Base model does not require the following two lines.\n",
    "m = [{\"role\": \"user\", \"content\": prompt}, ]\n",
    "prompt = tokenizer.apply_chat_template(m, add_generation_prompt=True, tokenize=False)\n",
    "\n",
    "input_ids = tokenizer(prompt)['input_ids']\n",
    "input_ids = torch.tensor(input_ids).to(device).unsqueeze(0)\n",
    "\n",
    "out = generate(model, input_ids, steps=64, gen_length=64, block_length=32, temperature=0., cfg_scale=0., remasking='low_confidence')\n",
    "print(tokenizer.batch_decode(out[:, input_ids.shape[1]:], skip_special_tokens=True)[0])"
   ]
  },
  {
   "cell_type": "code",
   "execution_count": 3,
   "metadata": {},
   "outputs": [
    {
     "name": "stdout",
     "output_type": "stream",
     "text": [
      "In the first 4 hours, Lily runs $12 \\times 4 = 48$ kilometers. In the next 4 hours, she runs $6 \\times 4 = 24$ kilometers. The total is $48+24=\\boxed{72}$ kilometers.\n"
     ]
    }
   ],
   "source": [
    "prompt = \"Lily can run 12 kilometers per hour for 4 hours. After that, she runs 6 kilometers per hour. How many kilometers can she run in 8 hours?\"\n",
    "\n",
    "# Add special tokens for the Instruct model. The Base model does not require the following two lines.\n",
    "m = [{\"role\": \"user\", \"content\": prompt}, ]\n",
    "prompt = tokenizer.apply_chat_template(m, add_generation_prompt=True, tokenize=False)\n",
    "\n",
    "input_ids = tokenizer(prompt)['input_ids']\n",
    "input_ids = torch.tensor(input_ids).to(device).unsqueeze(0)\n",
    "\n",
    "out = generate(model, input_ids, steps=64, gen_length=64, block_length=32, temperature=0., cfg_scale=0., remasking='low_confidence')\n",
    "print(tokenizer.batch_decode(out[:, input_ids.shape[1]:], skip_special_tokens=True)[0])"
   ]
  }
 ],
 "metadata": {
  "kernelspec": {
   "display_name": "Python 3",
   "language": "python",
   "name": "python3"
  },
  "language_info": {
   "codemirror_mode": {
    "name": "ipython",
    "version": 3
   },
   "file_extension": ".py",
   "mimetype": "text/x-python",
   "name": "python",
   "nbconvert_exporter": "python",
   "pygments_lexer": "ipython3",
   "version": "3.11.9"
  }
 },
 "nbformat": 4,
 "nbformat_minor": 2
}
